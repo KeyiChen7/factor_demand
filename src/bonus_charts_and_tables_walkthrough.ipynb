{
 "cells": [
  {
   "cell_type": "markdown",
   "metadata": {},
   "source": [
    "# Additional Charts and Tables (Jean-Sebastien Gaultier)\n",
    "\n",
    "This notebook is used as a step-by-step for the creation of intial plots and graphs that can be used to grasp a first understanding of the data.\n",
    "\n",
    "More specifically we will work with understanding the returns of the funds."
   ]
  },
  {
   "cell_type": "code",
   "execution_count": null,
   "metadata": {},
   "outputs": [],
   "source": [
    "import pandas as pd\n",
    "import matplotlib.pyplot as plt\n",
    "import seaborn as sns"
   ]
  },
  {
   "cell_type": "code",
   "execution_count": null,
   "metadata": {},
   "outputs": [],
   "source": [
    "# \n",
    "import config\n",
    "from pathlib import Path\n",
    "OUTPUT_DIR = Path(config.OUTPUT_DIR)"
   ]
  },
  {
   "cell_type": "code",
   "execution_count": null,
   "metadata": {},
   "outputs": [],
   "source": [
    "import numpy as np\n",
    "from matplotlib import pyplot as plt"
   ]
  },
  {
   "cell_type": "code",
   "execution_count": null,
   "metadata": {},
   "outputs": [],
   "source": [
    "from pathlib import Path\n",
    "\n",
    "import numpy as np\n",
    "import pandas as pd\n",
    "import wrds\n",
    "\n",
    "from load_CRSP_fund import load_CRSP_combined_file\n",
    "from load_s12 import load_s12_file\n",
    "from load_mflink import load_mflink1, load_mflink2\n",
    "\n",
    "\n",
    "import config\n",
    "WRDS_USERNAME = config.WRDS_USERNAME\n",
    "\n",
    "df_crsp = load_CRSP_combined_file()\n",
    "df_s12 = load_s12_file()\n",
    "df_mflink1 = load_mflink1()\n",
    "df_mflink2 = load_mflink2()"
   ]
  },
  {
   "cell_type": "code",
   "execution_count": null,
   "metadata": {},
   "outputs": [],
   "source": [
    "df_mflink1.groupby(\"crsp_fundno\").size().value_counts()\n",
    "df_mflink1"
   ]
  },
  {
   "cell_type": "code",
   "execution_count": null,
   "metadata": {},
   "outputs": [],
   "source": [
    "print(f\"Before merging, df_crsp has {df_crsp.shape[0]} rows\")\n",
    "df_crsp = df_crsp.merge(df_mflink1, how=\"inner\", on=\"crsp_fundno\").reset_index(\n",
    "    drop=True\n",
    ")\n",
    "print(f\"After merging, df_crsp has {df_crsp.shape[0]} rows\")"
   ]
  },
  {
   "cell_type": "code",
   "execution_count": null,
   "metadata": {},
   "outputs": [],
   "source": [
    "df_crsp = df_crsp.sort_values([\"caldt\", \"wficn\"])\n",
    "df_crsp['year'] = df_crsp['caldt'].dt.year.astype('int')\n",
    "df_crsp['month'] = df_crsp['caldt'].dt.month.astype('int')\n",
    "df_crsp = df_crsp[df_crsp['wficn'].notnull()]\n",
    "df_crsp['wficn'] = df_crsp['wficn'].astype('int')\n",
    "df_crsp['mret'] = df_crsp['mret'].fillna(0)\n",
    "df_crsp.head()"
   ]
  },
  {
   "cell_type": "code",
   "execution_count": null,
   "metadata": {},
   "outputs": [],
   "source": [
    "df_crsp[\"crsp_obj_cd\"].value_counts()"
   ]
  },
  {
   "cell_type": "markdown",
   "metadata": {},
   "source": [
    "## Funds grouped by their years\n",
    "\n",
    "The idea with this is that each fund will have all the information about that specific year. \n",
    "Additionally, we do not know exactly what the monthly return means. (for example if monthly return in january was 10% and in February it was 10% does that mean the monthly return over the year was 20%, or just 10%) Therefore we take both of those into account."
   ]
  },
  {
   "cell_type": "code",
   "execution_count": null,
   "metadata": {},
   "outputs": [],
   "source": [
    "df_crsp['year'] = pd.to_numeric(df_crsp['year'], errors='coerce')"
   ]
  },
  {
   "cell_type": "code",
   "execution_count": null,
   "metadata": {},
   "outputs": [],
   "source": [
    "# Here we get the monthly return but as a sum for each fund\n",
    "grouped_data = df_crsp.groupby(['crsp_fundno', 'year'])\n",
    "result_df = grouped_data['mret'].sum().reset_index()\n",
    "result_df"
   ]
  },
  {
   "cell_type": "code",
   "execution_count": null,
   "metadata": {},
   "outputs": [],
   "source": [
    "grouped_data = df_crsp.groupby(['crsp_fundno', 'year'])\n",
    "result_df = grouped_data['mret'].mean().reset_index()\n",
    "result_df"
   ]
  },
  {
   "cell_type": "code",
   "execution_count": null,
   "metadata": {},
   "outputs": [],
   "source": [
    "grouped_yearly_data = result_df.groupby('year')\n",
    "yearly_stats_df = grouped_yearly_data.agg(\n",
    "    num_funds=('crsp_fundno', 'size'),\n",
    "    mret_mean=('mret', 'mean'),\n",
    "    mret_median=('mret', 'median')\n",
    ").reset_index()\n",
    "yearly_stats_df"
   ]
  },
  {
   "cell_type": "markdown",
   "metadata": {},
   "source": [
    "When we run this, we notice that we do not have the same number of funds per year than the table 1 has in the report. Therefore that might explain why the returns are different as well. We will try to get rid of some funds."
   ]
  },
  {
   "cell_type": "markdown",
   "metadata": {},
   "source": [
    "# Yearly average return plot\n",
    "\n",
    "This plot can be used to see which years the funds were good to invest in and the years they were not as much"
   ]
  },
  {
   "cell_type": "code",
   "execution_count": null,
   "metadata": {},
   "outputs": [],
   "source": [
    "plt.figure(figsize=(10, 6))\n",
    "plt.bar(yearly_stats_df['year'], yearly_stats_df['mret_mean'], color='skyblue')\n",
    "plt.xlabel('Year')\n",
    "plt.ylabel('Average Monthly Return')\n",
    "plt.title('Distribution of Average Monthly Returns by Year')\n",
    "plt.grid(axis='y')\n",
    "plt.show()\n",
    "plt.savefig('histogram.png')"
   ]
  },
  {
   "cell_type": "markdown",
   "metadata": {},
   "source": [
    "This plot is wonderful because we clearly see the crisis in 2008 had a big impact and all the funds were down on average 40% which is huge."
   ]
  },
  {
   "cell_type": "markdown",
   "metadata": {},
   "source": [
    "## Plotting Returns by year and fund group type\n",
    "\n",
    "The important thing to understand is that funds are divided into different groups\n",
    "\n",
    "Some of those groups are (we are assuming this is what the codes mean):\n",
    "\n",
    "- EDYG:  \"Equity Domestic Growth\" funds, which typically invest in stocks with a focus on dividends and growth potential.\n",
    "\n",
    "- EDYB:  \"Equity Domestic Balanced\" funds, which may invest in both stocks and bonds, with an emphasis on dividends.\n",
    "\n",
    "- EDCS: \"Equity Consumer Staples\" funds, which invest primarily in companies that produce or distribute consumer staples such as food, beverages, and household goods."
   ]
  },
  {
   "cell_type": "code",
   "execution_count": null,
   "metadata": {},
   "outputs": [],
   "source": [
    "\n",
    "grouped_data = df_crsp.groupby(['year', 'crsp_obj_cd'])\n",
    "yearly_objcode_stats_df = grouped_data['mret'].mean().reset_index()\n",
    "print(yearly_objcode_stats_df)"
   ]
  },
  {
   "cell_type": "code",
   "execution_count": null,
   "metadata": {},
   "outputs": [],
   "source": [
    "grouped_data = yearly_objcode_stats_df.groupby('crsp_obj_cd')\n",
    "objcode_mean_mret_df = grouped_data['mret'].mean().reset_index()\n",
    "objcode_mean_mret_df"
   ]
  },
  {
   "cell_type": "code",
   "execution_count": null,
   "metadata": {},
   "outputs": [],
   "source": [
    "# Plot histogram\n",
    "plt.figure(figsize=(10, 6))\n",
    "plt.bar(objcode_mean_mret_df['crsp_obj_cd'], objcode_mean_mret_df['mret'], color='skyblue')\n",
    "plt.xlabel('CRSP Object Code')\n",
    "plt.ylabel('Average Monthly Return')\n",
    "plt.title('Average Monthly Return for Each Object Code (40-year Span)')\n",
    "plt.xticks(rotation=90)\n",
    "plt.grid(axis='y')\n",
    "plt.show()\n",
    "plt.savefig('histogram_mret_per_code.png')"
   ]
  },
  {
   "cell_type": "markdown",
   "metadata": {},
   "source": [
    "This graph is pretty good as well because it shows how each type of fund acted over the duration of the data. We do notice that most people will have made money aside from the people that had their money in the EDYS funds"
   ]
  },
  {
   "cell_type": "code",
   "execution_count": null,
   "metadata": {},
   "outputs": [],
   "source": [
    "object_code_counts = yearly_objcode_stats_df['crsp_obj_cd'].value_counts().reset_index()\n",
    "object_code_counts.columns = ['crsp_obj_cd', 'count']\n",
    "\n",
    "# Plot histogram\n",
    "plt.figure(figsize=(10, 6))\n",
    "plt.bar(object_code_counts['crsp_obj_cd'], object_code_counts['count'], color='skyblue')\n",
    "plt.xlabel('CRSP Object Code')\n",
    "plt.ylabel('Count')\n",
    "plt.title('Count of Occurrences for Each Object Code')\n",
    "plt.xticks(rotation=90)\n",
    "plt.grid(axis='y')\n",
    "plt.show()\n",
    "plt.savefig('histogram_code_count.png')"
   ]
  },
  {
   "cell_type": "markdown",
   "metadata": {},
   "source": [
    "For this graph we notice that not all of the fund types existed throughout all of the years."
   ]
  },
  {
   "cell_type": "markdown",
   "metadata": {},
   "source": [
    "## Count of the number of funds per object code"
   ]
  },
  {
   "cell_type": "code",
   "execution_count": null,
   "metadata": {},
   "outputs": [],
   "source": [
    "object_code_counts = df_crsp['crsp_obj_cd'].value_counts().reset_index()\n",
    "object_code_counts.columns = ['crsp_obj_cd', 'count']\n",
    "\n",
    "# Plot histogram\n",
    "plt.figure(figsize=(10, 6))\n",
    "plt.bar(object_code_counts['crsp_obj_cd'], object_code_counts['count'], color='skyblue')\n",
    "plt.xlabel('CRSP Object Code')\n",
    "plt.ylabel('Count')\n",
    "plt.title('Count of Occurrences for Each Object Code (Overall)')\n",
    "plt.xticks(rotation=90)\n",
    "plt.grid(axis='y')\n",
    "plt.show()\n",
    "plt.savefig('histogram_code_count_overall.png')"
   ]
  },
  {
   "cell_type": "markdown",
   "metadata": {},
   "source": [
    "This graph concludes our analysis of the object codes. We notice that EDYG funds have existed for the longest and are the most popular. Their return seems to follow the market at an average of almost 10% per year.\n",
    "\n",
    "For example investing $100,000 in 1980 into an EDYG would now run you over \n",
    "# $3.14 million"
   ]
  },
  {
   "cell_type": "markdown",
   "metadata": {},
   "source": [
    "# Final Charts\n",
    "\n",
    "In the data/manual, there are various histograms that have been included that describe the data and the returns.\n",
    "- histogram.png: Distribution of Average Monthly Returns by Year\n",
    "- histogram_mret_per_code.png: Average Monthly Return for Each Object Code (40-year Span)\n",
    "- histogram_code_count.png: Count of Occurrences for Each Object Code\n",
    "- histogram_code_count_overall.png: Count of Occurrences for Each Object Code (Overall)\n",
    "\n",
    "Additionally there are some interesting dataframes:\n",
    "- objcode_mean_mret_df: which gives the average monthly return per year per object code\n",
    "- yearly_stats_df: which gives the average monthly return per year\n"
   ]
  },
  {
   "cell_type": "markdown",
   "metadata": {},
   "source": [
    "## Unit test"
   ]
  },
  {
   "cell_type": "code",
   "execution_count": null,
   "metadata": {},
   "outputs": [],
   "source": [
    "import unittest\n",
    "\n",
    "data = {\n",
    "    'year': [1980, 1981, 1982, 1983, 1984, 1985, 1986, 1987],\n",
    "    'mean': [0.09, 0.08, 0.21, -0.01, 0.01, 0.17, 0.04, -0.22],\n",
    "    'median': [0.10, 0.08, 0.23, -0.01, 0.01, 0.16, 0.04, -0.21]\n",
    "}\n",
    "expected_df = pd.DataFrame(data)\n",
    "class TestYearlyStats(unittest.TestCase):\n",
    "    \n",
    "    def test_head_matches(self):\n",
    "        self.assertTrue(yearly_stats_df.head().equals(expected_df.head()))\n",
    "\n",
    "# Run the unit tests\n",
    "if __name__ == '__main__':\n",
    "    unittest.main(argv=['first-arg-is-ignored'], exit=False)"
   ]
  },
  {
   "cell_type": "markdown",
   "metadata": {},
   "source": []
  }
 ],
 "metadata": {
  "language_info": {
   "name": "python"
  }
 },
 "nbformat": 4,
 "nbformat_minor": 2
}
