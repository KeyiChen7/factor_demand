{
 "cells": [
  {
   "cell_type": "markdown",
   "metadata": {},
   "source": [
    "# Overview\n",
    "- This notebook intends to walk through the raw data saved in `data/pull`, outlining potential issues and pitfalls. \n",
    "- After running `doit`, your local `data/pull` directory should have four files:\n",
    "    1. `CRSP_fund_combined.parquet`: CRSP monthly mutual funds data.\n",
    "    2. `s12.parquet`: S12 quarterly mutual fund holdings data. \n",
    "    3. `mflink1.parquet`: To link `crsp_fundno` with `wficn`. \n",
    "    4. `mflink2.parquet`: To link S12's `fundno` with `wficn`. "
   ]
  },
  {
   "cell_type": "code",
   "execution_count": null,
   "metadata": {},
   "outputs": [],
   "source": [
    "from pathlib import Path\n",
    "\n",
    "import numpy as np\n",
    "import pandas as pd\n",
    "import wrds\n",
    "\n",
    "from load_CRSP_fund import load_CRSP_combined_file\n",
    "from load_s12 import load_s12_file\n",
    "from load_mflink import load_mflink1, load_mflink2\n",
    "\n",
    "\n",
    "import config\n",
    "WRDS_USERNAME = config.WRDS_USERNAME\n",
    "\n",
    "df_crsp = load_CRSP_combined_file()\n",
    "df_s12 = load_s12_file()\n",
    "df_mflink1 = load_mflink1()\n",
    "df_mflink2 = load_mflink2()"
   ]
  },
  {
   "cell_type": "markdown",
   "metadata": {},
   "source": [
    "# CRSP Mutual Fund Data\n",
    "\n",
    "## Tables and Filters\n",
    "- The main data is pulled from `crsp.monthly_tna_ret_nav`. (https://wrds-www.wharton.upenn.edu/data-dictionary/crsp_q_mutualfunds/monthly_tna_ret_nav/)\n",
    "- The paper specifies that it utilized only \"US domestic equity\" funds, so we need to identify this information. \n",
    "- Through various trials and errors, I found out that the best way to achieve this filter is through the `crsp.fund_style` table's `crsp_obj_cd` column. (https://wrds-www.wharton.upenn.edu/data-dictionary/crsp_q_mutualfunds/fund_style/)\n",
    "- I left join these two tables above. \n",
    "- Based on the CRSP manual, I require the first two characters of this code to be \"ED\", representing \"Equity\" and \"Domestic\". \n",
    "\n",
    "## Obtaining `wficn`\n",
    "- I discovered that **each mutual fund can have multiple `crsp_fund_no`**, representing different _share classes_. \n",
    "- It is of critical important for us to obtain the `wficn`, which is a fund-level identifier, and then aggregate the results. \n",
    "- The author describes the algorithm to perform this aggregation in **footnote 4**. \n",
    "\n",
    "## Multiple `wficn` for each `crsp_fundno`\n",
    "- As explained above, it's very common for one `wficn` to match with multiple `crsp_fundno`, because the latter represents a specific share class of a fund. \n",
    "- However, I discovered rare occurrances where one `crsp_fundno` matches with multiple `wficn`. This is unexpected, since each `wficn` should conceptually represents one \"institution\" or \"fund\". \n",
    "- I could not figure out the underlying reasons, but suspect that it could have something to do with delisting / merging of funds. For instance, one fund could be fully aqcuired by another fund, and thus assumed two fund identifiers. "
   ]
  },
  {
   "cell_type": "code",
   "execution_count": null,
   "metadata": {},
   "outputs": [],
   "source": [
    "df_mflink1.groupby(\"crsp_fundno\").size().value_counts()"
   ]
  },
  {
   "cell_type": "markdown",
   "metadata": {},
   "source": [
    "- It is also important to point out that certain `crsp_fundno` cannot be matched with any `wficn`. \n",
    "- Based on the descriptions in the paper, I decide to drop these samples. \n",
    "- Next, let us merge CRSP data and `mflink1` to obtain the appropriate `wficn`. "
   ]
  },
  {
   "cell_type": "code",
   "execution_count": null,
   "metadata": {},
   "outputs": [],
   "source": [
    "print(f\"Before merging, df_crsp has {df_crsp.shape[0]} rows\")\n",
    "df_crsp = df_crsp.merge(df_mflink1, how=\"inner\", on=\"crsp_fundno\").reset_index(\n",
    "    drop=True\n",
    ")\n",
    "print(f\"After merging, df_crsp has {df_crsp.shape[0]} rows\")"
   ]
  },
  {
   "cell_type": "code",
   "execution_count": null,
   "metadata": {},
   "outputs": [],
   "source": [
    "df_crsp = df_crsp.sort_values([\"caldt\", \"wficn\"])\n",
    "df_crsp['year'] = df_crsp['caldt'].dt.year.astype('int')\n",
    "df_crsp['month'] = df_crsp['caldt'].dt.month.astype('int')\n",
    "df_crsp = df_crsp[df_crsp['wficn'].notnull()]\n",
    "df_crsp['wficn'] = df_crsp['wficn'].astype('int')\n",
    "df_crsp['mret'] = df_crsp['mret'].fillna(0)\n",
    "df_crsp.head()"
   ]
  },
  {
   "cell_type": "markdown",
   "metadata": {},
   "source": [
    "## Computing Yearly Returns\n",
    "- To replicate Table 1, we need to compute yearly returns. \n",
    "- To do that, we first need to compute each fund's monthly returns. \n",
    "- **Intention**: We would like to follow footnote 4's approach of using `mtna` as weight. \n",
    "- **Issue**: Not all `mtna` are available, most likely because the mutual funds did not report this number. This is especially severe for 1990 and earlier. \n",
    "- **Solution**: The paper does not specify the method of resolving this issue. We could pull in TNA values elsewhere. Here, I will simply use **simple average** instead. This is reasonable, because it's most likely that different share classes of the same mutual fund should have very close returns. "
   ]
  },
  {
   "cell_type": "code",
   "execution_count": null,
   "metadata": {},
   "outputs": [],
   "source": [
    "df_crsp['mtna'].isnull().mean()"
   ]
  },
  {
   "cell_type": "code",
   "execution_count": null,
   "metadata": {},
   "outputs": [],
   "source": [
    "df_ret = (\n",
    "    df_crsp.groupby(\n",
    "        [\n",
    "            \"wficn\",\n",
    "            \"year\",\n",
    "            \"month\",\n",
    "        ]\n",
    "    )[\"mret\"]\n",
    "    .mean()\n",
    "    .reset_index()\n",
    ")\n",
    "df_ret[\"mult\"] = 1 + df_ret[\"mret\"]\n",
    "df_ret[\"cumret\"] = (\n",
    "    df_ret.sort_values([\"year\", \"month\"]).groupby([\"wficn\", \"year\"])[\"mult\"].cumprod()\n",
    ")\n",
    "\n",
    "# only care about yearly return\n",
    "df_ret = df_ret.query(\"month==12\")\n",
    "df_ret['yret'] = df_ret['cumret'] - 1\n"
   ]
  },
  {
   "cell_type": "code",
   "execution_count": null,
   "metadata": {},
   "outputs": [],
   "source": [
    "df_ret.head()"
   ]
  },
  {
   "cell_type": "markdown",
   "metadata": {},
   "source": [
    "## Year-end TNA\n",
    "- Table 1 reports TNA, but it does not specify whether it is average of max or year-end TNA. \n",
    "- For this project, I will use year-end TNA only. \n",
    "- We then merge the TNA and yearly return information. "
   ]
  },
  {
   "cell_type": "code",
   "execution_count": null,
   "metadata": {},
   "outputs": [],
   "source": [
    "df_tna = df_crsp.query(\"month==12\").groupby([\"wficn\", \"year\"])[\"mtna\"].sum().reset_index().rename(columns={\"mtna\": \"crsp_tna\"})\n",
    "df_crsp_clean = pd.merge(df_tna, df_ret)[['wficn', 'year', 'crsp_tna', 'yret']]"
   ]
  },
  {
   "cell_type": "code",
   "execution_count": null,
   "metadata": {},
   "outputs": [],
   "source": [
    "df_crsp_clean.head()"
   ]
  },
  {
   "cell_type": "markdown",
   "metadata": {},
   "source": [
    "# S12 Data\n",
    "- The S12 database link: https://wrds-www.wharton.upenn.edu/data-dictionary/tr_mutualfunds/s12/\n",
    "\n",
    "## Missing TNA Values\n",
    "- The author specified in the paper that \"we require that the TNAs reported in the Thomson Reuters database and in the CRSP database do not di￿er by more than a factor of two.\"\n",
    "- Looking at s12 table, it's clear that `assets` represents the TNA values. \n",
    "- **Issues**: The s12 table has a lot of missing assets fields for 2010 and 2013, especially 2011 and 2012. See below for a demonstration.  \n",
    "- **Solution**: I cannot think of any obvious solution. One possibility might be to assume the TNA is merely the sum of all holdings' values provided by the s12 table."
   ]
  },
  {
   "cell_type": "code",
   "execution_count": null,
   "metadata": {},
   "outputs": [],
   "source": [
    "query = \"\"\"\n",
    "SELECT\n",
    "  EXTRACT(YEAR FROM fdate) AS year,\n",
    "  COUNT(*) AS total_rows,\n",
    "  COUNT(CASE WHEN assets IS NULL THEN 1 END) AS missing_assets,\n",
    "  (COUNT(CASE WHEN assets IS NULL THEN 1 END) * 100.0 / COUNT(*)) AS missing_percentage\n",
    "FROM\n",
    "  tfn.s12\n",
    "WHERE\n",
    "  fdate >= '2007-01-01' and fdate <= '2016-12-31'\n",
    "GROUP BY\n",
    "  EXTRACT(YEAR FROM fdate)\n",
    "ORDER BY\n",
    "  year;\n",
    "\"\"\"\n",
    "\n",
    "db = wrds.Connection(wrds_username=WRDS_USERNAME)\n",
    "temp = db.raw_sql(query)\n",
    "db.close()\n"
   ]
  },
  {
   "cell_type": "code",
   "execution_count": null,
   "metadata": {},
   "outputs": [],
   "source": [
    "temp"
   ]
  },
  {
   "cell_type": "markdown",
   "metadata": {},
   "source": [
    "## Merging `s12` and `mflink2`\n",
    "- Unlike `mflink1`, the mapping for s12 to wficn has date information. \n",
    "- If I simply use the tuple of (fdate, fundno) to merge, there will be a lot of missing matches. \n",
    "- To circumvent this issue, I decided to **obtain the last valid record of wficn for each (year, fundno)**. \n",
    "- During our meeting with Jeremy, he suggested we use `merge_asof` instead, which makes more sense. \n",
    "- We observe a huge reduction in sample size after the merge, probably because s12 contain a lot of **non domestic funds** which are not covered WRDS's MFLINK"
   ]
  },
  {
   "cell_type": "code",
   "execution_count": null,
   "metadata": {},
   "outputs": [],
   "source": [
    "print(f\"Before merge: {df_s12.shape[0]}\")\n",
    "df_s12[\"year\"] = df_s12[\"fdate\"].dt.year.astype(\"int\")\n",
    "df_s12 = df_s12.sort_values([\"fdate\", \"fundno\"])\n",
    "df_mflink2 = df_mflink2.sort_values([\"fdate\", \"fundno\"])\n",
    "df_s12['fundno'] = df_s12['fundno'].astype('int')\n",
    "df_mflink2['fundno'] = df_mflink2['fundno'].astype('int')\n",
    "df_s12 = pd.merge_asof(df_s12, df_mflink2[['fdate', 'fundno', 'wficn']], by='fundno', on='fdate', direction='nearest')\n",
    "df_s12 = df_s12[df_s12['wficn'].notnull()]\n",
    "print(f\"After merge: {df_s12.shape[0]}\")"
   ]
  },
  {
   "cell_type": "markdown",
   "metadata": {},
   "source": [
    "## Domestic Equity?\n",
    "- S12 data has a \"country\" to identify countries of the stocks, and \"stkcdesc\" to identify classes of the stocks. \n",
    "- However, these data are not missing before 2000.\n",
    "- Since we've already filtered on domestic equity funds in `df_crsp_clean`, I decided to just **group together** all holdings and assume they are all US equities. "
   ]
  },
  {
   "cell_type": "code",
   "execution_count": null,
   "metadata": {},
   "outputs": [],
   "source": [
    "# temporarily fillna with 0 to avoid missing records\n",
    "df_s12['assets'] = df_s12['assets'].fillna(0)\n",
    "df_eq = df_s12.groupby(['year', 'fdate', 'wficn', 'assets', ])['useq_tna_k'].sum().reset_index()"
   ]
  },
  {
   "cell_type": "markdown",
   "metadata": {},
   "source": [
    "- As explained before, I am not aware of any clear solution for replacing `assets`, and I will simply keep it as NaN for now. "
   ]
  },
  {
   "cell_type": "code",
   "execution_count": null,
   "metadata": {},
   "outputs": [],
   "source": [
    "df_eq['assets'] = np.where(df_eq['assets'] == 0, np.nan, df_eq['assets'])"
   ]
  },
  {
   "cell_type": "markdown",
   "metadata": {},
   "source": [
    "- `s12` is updated quarterly, but the paper does not specify how to aggregate on a yearly basis. \n",
    "- For simplicity, I will simply get the last record for each year for now. "
   ]
  },
  {
   "cell_type": "code",
   "execution_count": null,
   "metadata": {},
   "outputs": [],
   "source": [
    "df_eq.head()"
   ]
  },
  {
   "cell_type": "code",
   "execution_count": null,
   "metadata": {},
   "outputs": [],
   "source": [
    "df_eq = df_eq.groupby(['wficn', 'year'])[['assets', 'useq_tna_k']].last().reset_index()"
   ]
  },
  {
   "cell_type": "markdown",
   "metadata": {},
   "source": [
    "# Merging CRSP and S12 Data\n",
    "- It is finally time to merge. "
   ]
  },
  {
   "cell_type": "code",
   "execution_count": null,
   "metadata": {},
   "outputs": [],
   "source": [
    "df_eq.head()"
   ]
  },
  {
   "cell_type": "code",
   "execution_count": null,
   "metadata": {},
   "outputs": [],
   "source": [
    "df_crsp_clean.head()    "
   ]
  },
  {
   "cell_type": "code",
   "execution_count": null,
   "metadata": {},
   "outputs": [],
   "source": [
    "df_combo = pd.merge(df_crsp_clean, df_eq, on=[\"wficn\", \"year\"], how=\"inner\").sort_values(\"year\")\n",
    "df_combo.head()"
   ]
  },
  {
   "cell_type": "markdown",
   "metadata": {},
   "source": [
    "# Applying Filters To Identify Universe\n",
    "- Let us first see the universe before applying any filters.\n",
    "- It is interesting to observe that without applying any filters, this number of funds data match closely for certain years, but mismatch greatly for others. \n",
    "- For 1980 and 1993, for instance, the numbers are identical. "
   ]
  },
  {
   "cell_type": "code",
   "execution_count": null,
   "metadata": {},
   "outputs": [],
   "source": [
    "df_combo.groupby('year').size().reset_index().rename(columns={0: 'count'})"
   ]
  },
  {
   "cell_type": "markdown",
   "metadata": {},
   "source": [
    "- Next, I will apply some filters as specified in the paper. "
   ]
  },
  {
   "cell_type": "code",
   "execution_count": null,
   "metadata": {},
   "outputs": [],
   "source": [
    "# TNA above 1 million at year end\n",
    "df_combo = df_combo.query(\"crsp_tna > 1\")\n",
    "df_combo.groupby(\"year\").size().reset_index().rename(columns={0: \"count\"})"
   ]
  },
  {
   "cell_type": "markdown",
   "metadata": {},
   "source": [
    "- Since we have a lot of missing \"assets\" for certain years, for simplicity, I assume the TNA ratio would be 1 in that case. "
   ]
  },
  {
   "cell_type": "code",
   "execution_count": null,
   "metadata": {},
   "outputs": [],
   "source": [
    "df_combo[\"tna_ratio\"] = np.where(\n",
    "    df_combo[\"assets\"].isnull(),\n",
    "    1,\n",
    "    df_combo[\"crsp_tna\"] * 1e6 / df_combo[\"assets\"] / 1e4,\n",
    ")\n",
    "df_combo = df_combo.query(\"tna_ratio > 0.5 and tna_ratio < 2\")\n",
    "df_combo.groupby(\"year\").size().reset_index().rename(columns={0: \"count\"})"
   ]
  },
  {
   "cell_type": "markdown",
   "metadata": {},
   "source": [
    "- Finally we compute the equity ratio. \n",
    "- The paper doesn't specify which TNA to use. \n",
    "- I will use both and require at least one of them to fall between 0.8 and 1.05."
   ]
  },
  {
   "cell_type": "code",
   "execution_count": null,
   "metadata": {},
   "outputs": [],
   "source": [
    "df_combo[\"eq_ratio_1\"] = df_combo[\"useq_tna_k\"] * 1e3 / (df_combo[\"crsp_tna\"] * 1e6)\n",
    "df_combo[\"eq_ratio_2\"] = np.where(\n",
    "    df_combo[\"assets\"].isnull(),\n",
    "    1,\n",
    "    df_combo[\"useq_tna_k\"] * 1e3 / (df_combo[\"assets\"] * 1e4),\n",
    ")\n",
    "df_combo.head()"
   ]
  },
  {
   "cell_type": "code",
   "execution_count": null,
   "metadata": {},
   "outputs": [],
   "source": [
    "df_combo = df_combo[\n",
    "    (df_combo[\"eq_ratio_1\"].between(0.8, 1.05))\n",
    "    | (df_combo[\"eq_ratio_2\"].between(0.8, 1.05))\n",
    "]\n",
    "df_combo.groupby(\"year\").size().reset_index().rename(columns={0: \"count\"})"
   ]
  },
  {
   "cell_type": "markdown",
   "metadata": {},
   "source": [
    "- The above filter appears to remove too many samples for most years. "
   ]
  },
  {
   "cell_type": "markdown",
   "metadata": {},
   "source": [
    "## Returns and TNA\n",
    "- It's not easy to match these numbers, especially the return numbers. "
   ]
  },
  {
   "cell_type": "code",
   "execution_count": null,
   "metadata": {},
   "outputs": [],
   "source": [
    "df_combo.groupby(\"year\")[[\"crsp_tna\", \"yret\"]].agg([\"mean\", \"median\"]).reset_index().round(2)"
   ]
  },
  {
   "cell_type": "code",
   "execution_count": null,
   "metadata": {},
   "outputs": [],
   "source": []
  }
 ],
 "metadata": {
  "language_info": {
   "name": "python"
  }
 },
 "nbformat": 4,
 "nbformat_minor": 2
}
