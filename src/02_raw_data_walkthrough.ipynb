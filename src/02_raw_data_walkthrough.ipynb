{
 "cells": [
  {
   "cell_type": "markdown",
   "metadata": {},
   "source": [
    "# Overview\n",
    "- This notebook intends to walk through the raw data saved in `data/pull`, outlining potential issues and pitfalls. \n",
    "- After running `doit`, your local `data/pull` directory should have four files:\n",
    "    1. `CRSP_fund_combined.parquet`: CRSP monthly mutual funds data.\n",
    "    2. `s12.parquet`: S12 quarterly mutual fund holdings data. \n",
    "    3. `mflink1.parquet`: To link `crsp_fundno` with `wficn`. \n",
    "    4. `mflink2.parquet`: To link S12's `fundno` with `wficn`. "
   ]
  },
  {
   "cell_type": "code",
   "execution_count": 2,
   "metadata": {},
   "outputs": [],
   "source": [
    "from pathlib import Path\n",
    "\n",
    "import numpy as np\n",
    "import pandas as pd\n",
    "import wrds\n",
    "\n",
    "from load_CRSP_fund import load_CRSP_combined_file\n",
    "from load_s12 import load_s12_file\n",
    "from load_mflink import load_mflink1, load_mflink2\n",
    "\n",
    "\n",
    "import config\n",
    "WRDS_USERNAME = config.WRDS_USERNAME\n",
    "\n",
    "df_crsp = load_CRSP_combined_file()\n",
    "df_s12 = load_s12_file()\n",
    "df_mflink1 = load_mflink1()\n",
    "df_mflink2 = load_mflink2()"
   ]
  },
  {
   "cell_type": "markdown",
   "metadata": {},
   "source": [
    "# CRSP Mutual Fund Data\n",
    "\n",
    "## Tables and Filters\n",
    "- The main data is pulled from `crsp.monthly_tna_ret_nav`. (https://wrds-www.wharton.upenn.edu/data-dictionary/crsp_q_mutualfunds/monthly_tna_ret_nav/)\n",
    "- The paper specifies that it utilized only \"US domestic equity\" funds, so we need to identify this information. \n",
    "- Through various trials and errors, I found out that the best way to achieve this filter is through the `crsp.fund_style` table's `crsp_obj_cd` column. (https://wrds-www.wharton.upenn.edu/data-dictionary/crsp_q_mutualfunds/fund_style/)\n",
    "- I left join these two tables above. \n",
    "- Based on the CRSP manual, I require the first two characters of this code to be \"ED\", representing \"Equity\" and \"Domestic\". \n",
    "\n",
    "## Obtaining `wficn`\n",
    "- I discovered that **each mutual fund can have multiple `crsp_fund_no`**, representing different _share classes_. \n",
    "- It is of critical important for us to obtain the `wficn`, which is a fund-level identifier, and then aggregate the results. \n",
    "- The author describes the algorithm to perform this aggregation in **footnote 4**. \n",
    "\n",
    "## Multiple `wficn` for each `crsp_fundno`\n",
    "- As explained above, it's very common for one `wficn` to match with multiple `crsp_fundno`, because the latter represents a specific share class of a fund. \n",
    "- However, I discovered rare occurrances where one `crsp_fundno` matches with multiple `wficn`. This is unexpected, since each `wficn` should conceptually represents one \"institution\" or \"fund\". \n",
    "- I could not figure out the underlying reasons, but suspect that it could have something to do with delisting / merging of funds. For instance, one fund could be fully aqcuired by another fund, and thus assumed two fund identifiers. "
   ]
  },
  {
   "cell_type": "code",
   "execution_count": 3,
   "metadata": {},
   "outputs": [
    {
     "data": {
      "text/plain": [
       "1    48981\n",
       "2      273\n",
       "3       41\n",
       "4        4\n",
       "Name: count, dtype: int64"
      ]
     },
     "execution_count": 3,
     "metadata": {},
     "output_type": "execute_result"
    }
   ],
   "source": [
    "df_mflink1.groupby(\"crsp_fundno\").size().value_counts()"
   ]
  },
  {
   "cell_type": "markdown",
   "metadata": {},
   "source": [
    "- It is also important to point out that certain `crsp_fundno` cannot be matched with any `wficn`. \n",
    "- Based on the descriptions in the paper, I decide to drop these samples. \n",
    "- Next, let us merge CRSP data and `mflink1` to obtain the appropriate `wficn`. "
   ]
  },
  {
   "cell_type": "code",
   "execution_count": 4,
   "metadata": {},
   "outputs": [
    {
     "name": "stdout",
     "output_type": "stream",
     "text": [
      "Before merging, df_crsp has 3555788 rows\n",
      "After merging, df_crsp has 3270889 rows\n"
     ]
    }
   ],
   "source": [
    "print(f\"Before merging, df_crsp has {df_crsp.shape[0]} rows\")\n",
    "df_crsp = df_crsp.merge(df_mflink1, how=\"inner\", on=\"crsp_fundno\").reset_index(\n",
    "    drop=True\n",
    ")\n",
    "print(f\"After merging, df_crsp has {df_crsp.shape[0]} rows\")"
   ]
  },
  {
   "cell_type": "code",
   "execution_count": 5,
   "metadata": {},
   "outputs": [
    {
     "data": {
      "text/html": [
       "<div>\n",
       "<style scoped>\n",
       "    .dataframe tbody tr th:only-of-type {\n",
       "        vertical-align: middle;\n",
       "    }\n",
       "\n",
       "    .dataframe tbody tr th {\n",
       "        vertical-align: top;\n",
       "    }\n",
       "\n",
       "    .dataframe thead th {\n",
       "        text-align: right;\n",
       "    }\n",
       "</style>\n",
       "<table border=\"1\" class=\"dataframe\">\n",
       "  <thead>\n",
       "    <tr style=\"text-align: right;\">\n",
       "      <th></th>\n",
       "      <th>caldt</th>\n",
       "      <th>crsp_fundno</th>\n",
       "      <th>mtna</th>\n",
       "      <th>mret</th>\n",
       "      <th>mnav</th>\n",
       "      <th>lipper_asset_cd</th>\n",
       "      <th>lipper_class_name</th>\n",
       "      <th>crsp_obj_cd</th>\n",
       "      <th>wficn</th>\n",
       "      <th>year</th>\n",
       "      <th>month</th>\n",
       "    </tr>\n",
       "  </thead>\n",
       "  <tbody>\n",
       "    <tr>\n",
       "      <th>2036450</th>\n",
       "      <td>1980-01-31</td>\n",
       "      <td>32668.0</td>\n",
       "      <td>NaN</td>\n",
       "      <td>0.000000</td>\n",
       "      <td>NaN</td>\n",
       "      <td>None</td>\n",
       "      <td>None</td>\n",
       "      <td>EDYG</td>\n",
       "      <td>100007</td>\n",
       "      <td>1980</td>\n",
       "      <td>1</td>\n",
       "    </tr>\n",
       "    <tr>\n",
       "      <th>9807</th>\n",
       "      <td>1980-01-31</td>\n",
       "      <td>967.0</td>\n",
       "      <td>NaN</td>\n",
       "      <td>0.121324</td>\n",
       "      <td>12.20</td>\n",
       "      <td>None</td>\n",
       "      <td>None</td>\n",
       "      <td>EDYG</td>\n",
       "      <td>100010</td>\n",
       "      <td>1980</td>\n",
       "      <td>1</td>\n",
       "    </tr>\n",
       "    <tr>\n",
       "      <th>347305</th>\n",
       "      <td>1980-01-31</td>\n",
       "      <td>7353.0</td>\n",
       "      <td>NaN</td>\n",
       "      <td>0.056240</td>\n",
       "      <td>24.38</td>\n",
       "      <td>None</td>\n",
       "      <td>None</td>\n",
       "      <td>EDYG</td>\n",
       "      <td>100019</td>\n",
       "      <td>1980</td>\n",
       "      <td>1</td>\n",
       "    </tr>\n",
       "    <tr>\n",
       "      <th>15119</th>\n",
       "      <td>1980-01-31</td>\n",
       "      <td>1445.0</td>\n",
       "      <td>NaN</td>\n",
       "      <td>0.016978</td>\n",
       "      <td>5.99</td>\n",
       "      <td>None</td>\n",
       "      <td>None</td>\n",
       "      <td>EDYG</td>\n",
       "      <td>100046</td>\n",
       "      <td>1980</td>\n",
       "      <td>1</td>\n",
       "    </tr>\n",
       "    <tr>\n",
       "      <th>3625</th>\n",
       "      <td>1980-01-31</td>\n",
       "      <td>297.0</td>\n",
       "      <td>NaN</td>\n",
       "      <td>0.079268</td>\n",
       "      <td>17.70</td>\n",
       "      <td>None</td>\n",
       "      <td>None</td>\n",
       "      <td>EDYG</td>\n",
       "      <td>100056</td>\n",
       "      <td>1980</td>\n",
       "      <td>1</td>\n",
       "    </tr>\n",
       "  </tbody>\n",
       "</table>\n",
       "</div>"
      ],
      "text/plain": [
       "             caldt  crsp_fundno  mtna      mret   mnav lipper_asset_cd  \\\n",
       "2036450 1980-01-31      32668.0   NaN  0.000000    NaN            None   \n",
       "9807    1980-01-31        967.0   NaN  0.121324  12.20            None   \n",
       "347305  1980-01-31       7353.0   NaN  0.056240  24.38            None   \n",
       "15119   1980-01-31       1445.0   NaN  0.016978   5.99            None   \n",
       "3625    1980-01-31        297.0   NaN  0.079268  17.70            None   \n",
       "\n",
       "        lipper_class_name crsp_obj_cd   wficn  year  month  \n",
       "2036450              None        EDYG  100007  1980      1  \n",
       "9807                 None        EDYG  100010  1980      1  \n",
       "347305               None        EDYG  100019  1980      1  \n",
       "15119                None        EDYG  100046  1980      1  \n",
       "3625                 None        EDYG  100056  1980      1  "
      ]
     },
     "execution_count": 5,
     "metadata": {},
     "output_type": "execute_result"
    }
   ],
   "source": [
    "df_crsp = df_crsp.sort_values([\"caldt\", \"wficn\"])\n",
    "df_crsp['year'] = df_crsp['caldt'].dt.year.astype('int')\n",
    "df_crsp['month'] = df_crsp['caldt'].dt.month.astype('int')\n",
    "df_crsp = df_crsp[df_crsp['wficn'].notnull()]\n",
    "df_crsp['wficn'] = df_crsp['wficn'].astype('int')\n",
    "df_crsp['mret'] = df_crsp['mret'].fillna(0)\n",
    "df_crsp.head()"
   ]
  },
  {
   "cell_type": "markdown",
   "metadata": {},
   "source": [
    "## Computing Yearly Returns\n",
    "- To replicate Table 1, we need to compute yearly returns. \n",
    "- To do that, we first need to compute each fund's monthly returns. \n",
    "- **Intention**: We would like to follow footnote 4's approach of using `mtna` as weight. \n",
    "- **Issue**: Not all `mtna` are available, most likely because the mutual funds did not report this number. This is especially severe for 1990 and earlier. \n",
    "- **Solution**: The paper does not specify the method of resolving this issue. We could pull in TNA values elsewhere. Here, I will simply use **simple average** instead. This is reasonable, because it's most likely that different share classes of the same mutual fund should have very close returns. "
   ]
  },
  {
   "cell_type": "code",
   "execution_count": 6,
   "metadata": {},
   "outputs": [
    {
     "data": {
      "text/plain": [
       "0.020550376365569115"
      ]
     },
     "execution_count": 6,
     "metadata": {},
     "output_type": "execute_result"
    }
   ],
   "source": [
    "df_crsp['mtna'].isnull().mean()"
   ]
  },
  {
   "cell_type": "code",
   "execution_count": null,
   "metadata": {},
   "outputs": [],
   "source": [
    "df_ret = (\n",
    "    df_crsp.groupby(\n",
    "        [\n",
    "            \"wficn\",\n",
    "            \"year\",\n",
    "            \"month\",\n",
    "        ]\n",
    "    )[\"mret\"]\n",
    "    .mean()\n",
    "    .reset_index()\n",
    ")\n",
    "df_ret[\"mult\"] = 1 + df_ret[\"mret\"]\n",
    "df_ret[\"cumret\"] = (\n",
    "    df_ret.sort_values([\"year\", \"month\"]).groupby([\"wficn\", \"year\"])[\"mult\"].cumprod()\n",
    ")\n",
    "\n",
    "# only care about yearly return\n",
    "df_ret = df_ret.query(\"month==12\")\n",
    "df_ret['yret'] = df_ret['cumret'] - 1\n"
   ]
  },
  {
   "cell_type": "code",
   "execution_count": null,
   "metadata": {},
   "outputs": [],
   "source": [
    "df_ret.head()"
   ]
  },
  {
   "cell_type": "markdown",
   "metadata": {},
   "source": [
    "## Year-end TNA\n",
    "- Table 1 reports TNA, but it does not specify whether it is average of max or year-end TNA. \n",
    "- For this project, I will use year-end TNA only. \n",
    "- We then merge the TNA and yearly return information. "
   ]
  },
  {
   "cell_type": "code",
   "execution_count": null,
   "metadata": {},
   "outputs": [],
   "source": [
    "df_tna = df_crsp.query(\"month==12\").groupby([\"wficn\", \"year\"])[\"mtna\"].sum().reset_index().rename(columns={\"mtna\": \"crsp_tna\"})\n",
    "df_crsp_clean = pd.merge(df_tna, df_ret)[['wficn', 'year', 'crsp_tna', 'yret']]\n"
   ]
  },
  {
   "cell_type": "code",
   "execution_count": null,
   "metadata": {},
   "outputs": [],
   "source": [
    "df_crsp_clean.head()"
   ]
  },
  {
   "cell_type": "code",
   "execution_count": null,
   "metadata": {},
   "outputs": [],
   "source": [
    "pd.set_option('display.float_format', lambda x: '%.2f' % x)\n",
    "float_format_func = lambda x: '{:.2f}'.format(x)\n",
    "df_crsp_clean = df_crsp_clean.rename(columns={'crsp_tna': '$crsp_{TNA}$'}) \n",
    "latexTS_crsp_clean = df_crsp_clean.head(5).to_latex(float_format = float_format_func)\n",
    "\n",
    "path_to_save = f'../output/table_crsp_clean.tex'\n",
    "\n",
    "with open(path_to_save, 'w') as f: \n",
    "    f.write(latexTS_crsp_clean)\n",
    "    \n",
    "df_crsp_clean = df_crsp_clean.rename(columns={'$crsp_{TNA}$': 'crsp_tna'}) \n",
    "\n"
   ]
  },
  {
   "cell_type": "markdown",
   "metadata": {},
   "source": [
    "# S12 Data\n",
    "- The S12 database link: https://wrds-www.wharton.upenn.edu/data-dictionary/tr_mutualfunds/s12/\n",
    "\n",
    "## Missing TNA Values\n",
    "- The author specified in the paper that \"we require that the TNAs reported in the Thomson Reuters database and in the CRSP database do not di￿er by more than a factor of two.\"\n",
    "- Looking at s12 table, it's clear that `assets` represents the TNA values. \n",
    "- **Issues**: The s12 table has a lot of missing assets fields for 2010 and 2013, especially 2011 and 2012. See below for a demonstration.  \n",
    "- **Solution**: I cannot think of any obvious solution. One possibility might be to assume the TNA is merely the sum of all holdings' values provided by the s12 table."
   ]
  },
  {
   "cell_type": "code",
   "execution_count": null,
   "metadata": {},
   "outputs": [],
   "source": [
    "query = \"\"\"\n",
    "SELECT\n",
    "  EXTRACT(YEAR FROM fdate) AS year,\n",
    "  COUNT(*) AS total_rows,\n",
    "  COUNT(CASE WHEN assets IS NULL THEN 1 END) AS missing_assets,\n",
    "  (COUNT(CASE WHEN assets IS NULL THEN 1 END) * 100.0 / COUNT(*)) AS missing_percentage\n",
    "FROM\n",
    "  tfn.s12\n",
    "WHERE\n",
    "  fdate >= '2007-01-01' and fdate <= '2016-12-31'\n",
    "GROUP BY\n",
    "  EXTRACT(YEAR FROM fdate)\n",
    "ORDER BY\n",
    "  year;\n",
    "\"\"\"\n",
    "\n",
    "db = wrds.Connection(wrds_username=WRDS_USERNAME)\n",
    "temp = db.raw_sql(query)\n",
    "db.close()\n"
   ]
  },
  {
   "cell_type": "code",
   "execution_count": null,
   "metadata": {},
   "outputs": [],
   "source": [
    "temp"
   ]
  },
  {
   "cell_type": "markdown",
   "metadata": {},
   "source": [
    "## Merging `s12` and `mflink2`\n",
    "- Unlike `mflink1`, the mapping for s12 to wficn has date information. \n",
    "- If I simply use the tuple of (fdate, fundno) to merge, there will be a lot of missing matches. \n",
    "- To circumvent this issue, I decided to **obtain the last valid record of wficn for each (year, fundno)**. \n",
    "- During our meeting with Jeremy, he suggested we use `merge_asof` instead, which makes more sense. \n",
    "- We observe a huge reduction in sample size after the merge, probably because s12 contain a lot of **non domestic funds** which are not covered WRDS's MFLINK"
   ]
  },
  {
   "cell_type": "code",
   "execution_count": null,
   "metadata": {},
   "outputs": [],
   "source": [
    "print(f\"Before merge: {df_s12.shape[0]}\")\n",
    "df_s12[\"year\"] = df_s12[\"fdate\"].dt.year.astype(\"int\")\n",
    "df_s12 = df_s12.sort_values([\"fdate\", \"fundno\"])\n",
    "df_mflink2 = df_mflink2.sort_values([\"fdate\", \"fundno\"])\n",
    "df_s12['fundno'] = df_s12['fundno'].astype('int')\n",
    "df_mflink2['fundno'] = df_mflink2['fundno'].astype('int')\n",
    "df_s12 = pd.merge_asof(df_s12, df_mflink2[['fdate', 'fundno', 'wficn']], by='fundno', on='fdate', direction='nearest')\n",
    "df_s12 = df_s12[df_s12['wficn'].notnull()]\n",
    "print(f\"After merge: {df_s12.shape[0]}\")"
   ]
  },
  {
   "cell_type": "markdown",
   "metadata": {},
   "source": [
    "## Domestic Equity?\n",
    "- S12 data has a \"country\" to identify countries of the stocks, and \"stkcdesc\" to identify classes of the stocks. \n",
    "- However, these data are not missing before 2000.\n",
    "- Since we've already filtered on domestic equity funds in `df_crsp_clean`, I decided to just **group together** all holdings and assume they are all US equities. "
   ]
  },
  {
   "cell_type": "code",
   "execution_count": null,
   "metadata": {},
   "outputs": [],
   "source": [
    "# temporarily fillna with 0 to avoid missing records\n",
    "df_s12['assets'] = df_s12['assets'].fillna(0)\n",
    "df_eq = df_s12.groupby(['year', 'fdate', 'wficn', 'assets', ])['useq_tna_k'].sum().reset_index()"
   ]
  },
  {
   "cell_type": "markdown",
   "metadata": {},
   "source": [
    "- As explained before, I am not aware of any clear solution for replacing `assets`, and I will simply keep it as NaN for now. "
   ]
  },
  {
   "cell_type": "code",
   "execution_count": null,
   "metadata": {},
   "outputs": [],
   "source": [
    "df_eq['assets'] = np.where(df_eq['assets'] == 0, np.nan, df_eq['assets'])"
   ]
  },
  {
   "cell_type": "markdown",
   "metadata": {},
   "source": [
    "- `s12` is updated quarterly, but the paper does not specify how to aggregate on a yearly basis. \n",
    "- For simplicity, I will simply get the last record for each year for now. "
   ]
  },
  {
   "cell_type": "code",
   "execution_count": null,
   "metadata": {},
   "outputs": [],
   "source": [
    "df_eq.head()"
   ]
  },
  {
   "cell_type": "code",
   "execution_count": null,
   "metadata": {},
   "outputs": [],
   "source": [
    "df_eq = df_eq.groupby(['wficn', 'year'])[['assets', 'useq_tna_k']].last().reset_index()"
   ]
  },
  {
   "cell_type": "code",
   "execution_count": null,
   "metadata": {},
   "outputs": [],
   "source": [
    "df_eq = df_eq.rename(columns={'useq_tna_k': '$useq_{TNA}$'}) \n",
    "\n",
    "latexTS_df_eq = df_eq.head(5).to_latex(float_format = float_format_func)\n",
    "\n",
    "path_to_save = f'../output/table1b.tex'\n",
    "\n",
    "with open(path_to_save, 'w') as f: \n",
    "    f.write(latexTS_df_eq)\n",
    "\n",
    "df_eq = df_eq.rename(columns={'$useq_{TNA}$': 'useq_tna_k'}) \n",
    "\n",
    "    "
   ]
  },
  {
   "cell_type": "markdown",
   "metadata": {},
   "source": [
    "# Merging CRSP and S12 Data\n",
    "- It is finally time to merge. "
   ]
  },
  {
   "cell_type": "code",
   "execution_count": null,
   "metadata": {},
   "outputs": [],
   "source": [
    "df_eq.head()"
   ]
  },
  {
   "cell_type": "code",
   "execution_count": null,
   "metadata": {},
   "outputs": [],
   "source": [
    "df_crsp_clean.head()    "
   ]
  },
  {
   "cell_type": "code",
   "execution_count": null,
   "metadata": {},
   "outputs": [],
   "source": [
    "df_combo = pd.merge(df_crsp_clean, df_eq, on=[\"wficn\", \"year\"], how=\"inner\").sort_values(\"year\")\n",
    "df_combo.head()"
   ]
  },
  {
   "cell_type": "code",
   "execution_count": null,
   "metadata": {},
   "outputs": [],
   "source": [
    "OUTPUT_DIR = Path(config.OUTPUT_DIR)\n",
    "path = Path(OUTPUT_DIR) / \"main_sample.parquet\" \n",
    "df_combo.to_parquet(path)\n"
   ]
  },
  {
   "cell_type": "markdown",
   "metadata": {},
   "source": [
    "# Applying Filters To Identify Universe\n",
    "- Let us first see the universe before applying any filters.\n",
    "- It is interesting to observe that without applying any filters, this number of funds data match closely for certain years, but mismatch greatly for others. \n",
    "- For 1980 and 1993, for instance, the numbers are identical. "
   ]
  },
  {
   "cell_type": "code",
   "execution_count": null,
   "metadata": {},
   "outputs": [],
   "source": [
    "df_combo.groupby('year').size().reset_index().rename(columns={0: 'count'})"
   ]
  },
  {
   "cell_type": "markdown",
   "metadata": {},
   "source": [
    "- Next, I will apply some filters as specified in the paper. "
   ]
  },
  {
   "cell_type": "code",
   "execution_count": null,
   "metadata": {},
   "outputs": [],
   "source": [
    "# TNA above 1 million at year end\n",
    "df_combo = df_combo.query(\"crsp_tna > 1\")\n",
    "df_combo.groupby(\"year\").size().reset_index().rename(columns={0: \"count\"})"
   ]
  },
  {
   "cell_type": "markdown",
   "metadata": {},
   "source": [
    "- Since we have a lot of missing \"assets\" for certain years, for simplicity, I assume the TNA ratio would be 1 in that case. "
   ]
  },
  {
   "cell_type": "code",
   "execution_count": null,
   "metadata": {},
   "outputs": [],
   "source": [
    "df_combo[\"tna_ratio\"] = np.where(\n",
    "    df_combo[\"assets\"].isnull(),\n",
    "    1,\n",
    "    df_combo[\"crsp_tna\"] * 1e6 / df_combo[\"assets\"] / 1e4,\n",
    ")\n",
    "df_combo = df_combo.query(\"tna_ratio > 0.5 and tna_ratio < 2\")\n",
    "df_combo.groupby(\"year\").size().reset_index().rename(columns={0: \"count\"})"
   ]
  },
  {
   "cell_type": "markdown",
   "metadata": {},
   "source": [
    "- Finally we compute the equity ratio. \n",
    "- The paper doesn't specify which TNA to use. \n",
    "- I will use both and require at least one of them to fall between 0.8 and 1.05."
   ]
  },
  {
   "cell_type": "code",
   "execution_count": null,
   "metadata": {},
   "outputs": [],
   "source": [
    "df_combo[\"eq_ratio_1\"] = df_combo[\"useq_tna_k\"] * 1e3 / (df_combo[\"crsp_tna\"] * 1e6)\n",
    "df_combo[\"eq_ratio_2\"] = np.where(\n",
    "    df_combo[\"assets\"].isnull(),\n",
    "    1,\n",
    "    df_combo[\"useq_tna_k\"] * 1e3 / (df_combo[\"assets\"] * 1e4),\n",
    ")\n",
    "df_combo.head()"
   ]
  },
  {
   "cell_type": "code",
   "execution_count": null,
   "metadata": {},
   "outputs": [],
   "source": [
    "df_combo = df_combo[\n",
    "    (df_combo[\"eq_ratio_1\"].between(0.8, 1.05))\n",
    "    | (df_combo[\"eq_ratio_2\"].between(0.8, 1.05))\n",
    "]\n",
    "df_combo.groupby(\"year\").size().reset_index().rename(columns={0: \"count\"})"
   ]
  },
  {
   "cell_type": "markdown",
   "metadata": {},
   "source": [
    "- The above filter appears to remove too many samples for most years. "
   ]
  },
  {
   "cell_type": "markdown",
   "metadata": {},
   "source": [
    "## Returns and TNA\n",
    "- It's not easy to match these numbers, especially the return numbers. "
   ]
  },
  {
   "cell_type": "code",
   "execution_count": null,
   "metadata": {},
   "outputs": [],
   "source": [
    "df_combo.groupby(\"year\")[[\"crsp_tna\", \"yret\"]].agg([\"mean\", \"median\"]).reset_index().round(2)"
   ]
  },
  {
   "cell_type": "code",
   "execution_count": null,
   "metadata": {},
   "outputs": [],
   "source": [
    "df_complete = df_combo.groupby(\"year\")[[\"crsp_tna\", \"yret\"]].agg([\"mean\", \"median\"]).reset_index().round(2)\n",
    "df_complete = df_complete.rename(columns={'crsp_tna': '$crsp_{TNA}$'}) \n",
    "latexTS_df_complete = df_complete.to_latex(float_format = float_format_func)\n",
    "\n",
    "\n",
    "path_to_save = f'../output/table1_complete.tex'\n",
    "\n",
    "with open(path_to_save, 'w') as f: \n",
    "    f.write(latexTS_df_complete)\n",
    "    \n",
    "df_complete = df_complete.rename(columns={'$crsp_{TNA}$': 'crsp_tna'}) \n"
   ]
  },
  {
   "cell_type": "markdown",
   "metadata": {},
   "source": [
    "# Building Panel B [JS]"
   ]
  },
  {
   "cell_type": "markdown",
   "metadata": {},
   "source": [
    "First we need to get rid of any funds that are related to Precious Metals, Internation or Fixed-Income."
   ]
  },
  {
   "cell_type": "code",
   "execution_count": 7,
   "metadata": {},
   "outputs": [],
   "source": [
    "categories_to_remove = ['Gold Oriented Funds', 'Precious Metal Funds', 'Precious Metals Funds', 'Precious Metals Equity Funds']\n",
    "crsp_df = df_crsp[~df_crsp['lipper_class_name'].isin(categories_to_remove)]"
   ]
  },
  {
   "cell_type": "code",
   "execution_count": 8,
   "metadata": {},
   "outputs": [
    {
     "data": {
      "text/html": [
       "<div>\n",
       "<style scoped>\n",
       "    .dataframe tbody tr th:only-of-type {\n",
       "        vertical-align: middle;\n",
       "    }\n",
       "\n",
       "    .dataframe tbody tr th {\n",
       "        vertical-align: top;\n",
       "    }\n",
       "\n",
       "    .dataframe thead th {\n",
       "        text-align: right;\n",
       "    }\n",
       "</style>\n",
       "<table border=\"1\" class=\"dataframe\">\n",
       "  <thead>\n",
       "    <tr style=\"text-align: right;\">\n",
       "      <th></th>\n",
       "      <th>Year</th>\n",
       "      <th>Average TNA</th>\n",
       "      <th>Median TNA</th>\n",
       "      <th>Number of Funds</th>\n",
       "    </tr>\n",
       "  </thead>\n",
       "  <tbody>\n",
       "    <tr>\n",
       "      <th>0</th>\n",
       "      <td>1980</td>\n",
       "      <td>120.156524</td>\n",
       "      <td>44.6000</td>\n",
       "      <td>240</td>\n",
       "    </tr>\n",
       "    <tr>\n",
       "      <th>1</th>\n",
       "      <td>1981</td>\n",
       "      <td>135.062210</td>\n",
       "      <td>53.3145</td>\n",
       "      <td>247</td>\n",
       "    </tr>\n",
       "    <tr>\n",
       "      <th>2</th>\n",
       "      <td>1982</td>\n",
       "      <td>133.247232</td>\n",
       "      <td>53.5950</td>\n",
       "      <td>249</td>\n",
       "    </tr>\n",
       "    <tr>\n",
       "      <th>3</th>\n",
       "      <td>1983</td>\n",
       "      <td>208.061428</td>\n",
       "      <td>88.2030</td>\n",
       "      <td>280</td>\n",
       "    </tr>\n",
       "    <tr>\n",
       "      <th>4</th>\n",
       "      <td>1984</td>\n",
       "      <td>196.587038</td>\n",
       "      <td>77.8090</td>\n",
       "      <td>309</td>\n",
       "    </tr>\n",
       "    <tr>\n",
       "      <th>5</th>\n",
       "      <td>1985</td>\n",
       "      <td>227.598404</td>\n",
       "      <td>86.8060</td>\n",
       "      <td>361</td>\n",
       "    </tr>\n",
       "    <tr>\n",
       "      <th>6</th>\n",
       "      <td>1986</td>\n",
       "      <td>256.131720</td>\n",
       "      <td>84.8075</td>\n",
       "      <td>417</td>\n",
       "    </tr>\n",
       "    <tr>\n",
       "      <th>7</th>\n",
       "      <td>1987</td>\n",
       "      <td>272.660112</td>\n",
       "      <td>91.4580</td>\n",
       "      <td>462</td>\n",
       "    </tr>\n",
       "    <tr>\n",
       "      <th>8</th>\n",
       "      <td>1988</td>\n",
       "      <td>217.284630</td>\n",
       "      <td>68.1000</td>\n",
       "      <td>531</td>\n",
       "    </tr>\n",
       "    <tr>\n",
       "      <th>9</th>\n",
       "      <td>1989</td>\n",
       "      <td>234.414745</td>\n",
       "      <td>70.7685</td>\n",
       "      <td>588</td>\n",
       "    </tr>\n",
       "    <tr>\n",
       "      <th>10</th>\n",
       "      <td>1990</td>\n",
       "      <td>262.096586</td>\n",
       "      <td>69.4985</td>\n",
       "      <td>879</td>\n",
       "    </tr>\n",
       "    <tr>\n",
       "      <th>11</th>\n",
       "      <td>1991</td>\n",
       "      <td>333.602012</td>\n",
       "      <td>82.9110</td>\n",
       "      <td>868</td>\n",
       "    </tr>\n",
       "    <tr>\n",
       "      <th>12</th>\n",
       "      <td>1992</td>\n",
       "      <td>405.890333</td>\n",
       "      <td>98.7000</td>\n",
       "      <td>1221</td>\n",
       "    </tr>\n",
       "    <tr>\n",
       "      <th>13</th>\n",
       "      <td>1993</td>\n",
       "      <td>422.584222</td>\n",
       "      <td>85.1530</td>\n",
       "      <td>1509</td>\n",
       "    </tr>\n",
       "    <tr>\n",
       "      <th>14</th>\n",
       "      <td>1994</td>\n",
       "      <td>401.582944</td>\n",
       "      <td>73.9480</td>\n",
       "      <td>1913</td>\n",
       "    </tr>\n",
       "    <tr>\n",
       "      <th>15</th>\n",
       "      <td>1995</td>\n",
       "      <td>397.762092</td>\n",
       "      <td>50.7230</td>\n",
       "      <td>2275</td>\n",
       "    </tr>\n",
       "    <tr>\n",
       "      <th>16</th>\n",
       "      <td>1996</td>\n",
       "      <td>496.711095</td>\n",
       "      <td>61.9660</td>\n",
       "      <td>2635</td>\n",
       "    </tr>\n",
       "    <tr>\n",
       "      <th>17</th>\n",
       "      <td>1997</td>\n",
       "      <td>575.923760</td>\n",
       "      <td>70.0750</td>\n",
       "      <td>3393</td>\n",
       "    </tr>\n",
       "    <tr>\n",
       "      <th>18</th>\n",
       "      <td>1998</td>\n",
       "      <td>553.619126</td>\n",
       "      <td>57.1850</td>\n",
       "      <td>4275</td>\n",
       "    </tr>\n",
       "    <tr>\n",
       "      <th>19</th>\n",
       "      <td>1999</td>\n",
       "      <td>595.675914</td>\n",
       "      <td>54.5000</td>\n",
       "      <td>4915</td>\n",
       "    </tr>\n",
       "    <tr>\n",
       "      <th>20</th>\n",
       "      <td>2000</td>\n",
       "      <td>603.794249</td>\n",
       "      <td>53.3000</td>\n",
       "      <td>5385</td>\n",
       "    </tr>\n",
       "    <tr>\n",
       "      <th>21</th>\n",
       "      <td>2001</td>\n",
       "      <td>442.787657</td>\n",
       "      <td>40.8000</td>\n",
       "      <td>6765</td>\n",
       "    </tr>\n",
       "    <tr>\n",
       "      <th>22</th>\n",
       "      <td>2002</td>\n",
       "      <td>342.609841</td>\n",
       "      <td>30.1000</td>\n",
       "      <td>7578</td>\n",
       "    </tr>\n",
       "    <tr>\n",
       "      <th>23</th>\n",
       "      <td>2003</td>\n",
       "      <td>322.149563</td>\n",
       "      <td>26.8000</td>\n",
       "      <td>7894</td>\n",
       "    </tr>\n",
       "    <tr>\n",
       "      <th>24</th>\n",
       "      <td>2004</td>\n",
       "      <td>400.805725</td>\n",
       "      <td>34.8000</td>\n",
       "      <td>8090</td>\n",
       "    </tr>\n",
       "    <tr>\n",
       "      <th>25</th>\n",
       "      <td>2005</td>\n",
       "      <td>441.866071</td>\n",
       "      <td>38.6000</td>\n",
       "      <td>7910</td>\n",
       "    </tr>\n",
       "    <tr>\n",
       "      <th>26</th>\n",
       "      <td>2006</td>\n",
       "      <td>470.872313</td>\n",
       "      <td>38.4000</td>\n",
       "      <td>8487</td>\n",
       "    </tr>\n",
       "    <tr>\n",
       "      <th>27</th>\n",
       "      <td>2007</td>\n",
       "      <td>495.760533</td>\n",
       "      <td>36.0000</td>\n",
       "      <td>10501</td>\n",
       "    </tr>\n",
       "    <tr>\n",
       "      <th>28</th>\n",
       "      <td>2008</td>\n",
       "      <td>365.357323</td>\n",
       "      <td>22.8000</td>\n",
       "      <td>12412</td>\n",
       "    </tr>\n",
       "    <tr>\n",
       "      <th>29</th>\n",
       "      <td>2009</td>\n",
       "      <td>300.563405</td>\n",
       "      <td>23.4000</td>\n",
       "      <td>11942</td>\n",
       "    </tr>\n",
       "    <tr>\n",
       "      <th>30</th>\n",
       "      <td>2010</td>\n",
       "      <td>375.860445</td>\n",
       "      <td>31.4000</td>\n",
       "      <td>11675</td>\n",
       "    </tr>\n",
       "    <tr>\n",
       "      <th>31</th>\n",
       "      <td>2011</td>\n",
       "      <td>438.073931</td>\n",
       "      <td>36.4000</td>\n",
       "      <td>11846</td>\n",
       "    </tr>\n",
       "    <tr>\n",
       "      <th>32</th>\n",
       "      <td>2012</td>\n",
       "      <td>462.716557</td>\n",
       "      <td>36.5000</td>\n",
       "      <td>11920</td>\n",
       "    </tr>\n",
       "    <tr>\n",
       "      <th>33</th>\n",
       "      <td>2013</td>\n",
       "      <td>549.411620</td>\n",
       "      <td>42.4000</td>\n",
       "      <td>12137</td>\n",
       "    </tr>\n",
       "    <tr>\n",
       "      <th>34</th>\n",
       "      <td>2014</td>\n",
       "      <td>629.453998</td>\n",
       "      <td>47.8000</td>\n",
       "      <td>12520</td>\n",
       "    </tr>\n",
       "    <tr>\n",
       "      <th>35</th>\n",
       "      <td>2015</td>\n",
       "      <td>633.479112</td>\n",
       "      <td>45.9000</td>\n",
       "      <td>13138</td>\n",
       "    </tr>\n",
       "    <tr>\n",
       "      <th>36</th>\n",
       "      <td>2016</td>\n",
       "      <td>622.366958</td>\n",
       "      <td>41.8000</td>\n",
       "      <td>13521</td>\n",
       "    </tr>\n",
       "    <tr>\n",
       "      <th>37</th>\n",
       "      <td>2017</td>\n",
       "      <td>723.568826</td>\n",
       "      <td>43.4000</td>\n",
       "      <td>13694</td>\n",
       "    </tr>\n",
       "    <tr>\n",
       "      <th>38</th>\n",
       "      <td>2018</td>\n",
       "      <td>801.963351</td>\n",
       "      <td>47.3000</td>\n",
       "      <td>13583</td>\n",
       "    </tr>\n",
       "    <tr>\n",
       "      <th>39</th>\n",
       "      <td>2019</td>\n",
       "      <td>859.298793</td>\n",
       "      <td>47.8000</td>\n",
       "      <td>13489</td>\n",
       "    </tr>\n",
       "    <tr>\n",
       "      <th>40</th>\n",
       "      <td>2020</td>\n",
       "      <td>930.848877</td>\n",
       "      <td>47.9000</td>\n",
       "      <td>13385</td>\n",
       "    </tr>\n",
       "    <tr>\n",
       "      <th>41</th>\n",
       "      <td>2021</td>\n",
       "      <td>1263.184391</td>\n",
       "      <td>64.3000</td>\n",
       "      <td>12956</td>\n",
       "    </tr>\n",
       "    <tr>\n",
       "      <th>42</th>\n",
       "      <td>2022</td>\n",
       "      <td>1174.525616</td>\n",
       "      <td>59.1000</td>\n",
       "      <td>13342</td>\n",
       "    </tr>\n",
       "    <tr>\n",
       "      <th>43</th>\n",
       "      <td>2023</td>\n",
       "      <td>1305.366076</td>\n",
       "      <td>67.0000</td>\n",
       "      <td>12343</td>\n",
       "    </tr>\n",
       "  </tbody>\n",
       "</table>\n",
       "</div>"
      ],
      "text/plain": [
       "    Year  Average TNA  Median TNA  Number of Funds\n",
       "0   1980   120.156524     44.6000              240\n",
       "1   1981   135.062210     53.3145              247\n",
       "2   1982   133.247232     53.5950              249\n",
       "3   1983   208.061428     88.2030              280\n",
       "4   1984   196.587038     77.8090              309\n",
       "5   1985   227.598404     86.8060              361\n",
       "6   1986   256.131720     84.8075              417\n",
       "7   1987   272.660112     91.4580              462\n",
       "8   1988   217.284630     68.1000              531\n",
       "9   1989   234.414745     70.7685              588\n",
       "10  1990   262.096586     69.4985              879\n",
       "11  1991   333.602012     82.9110              868\n",
       "12  1992   405.890333     98.7000             1221\n",
       "13  1993   422.584222     85.1530             1509\n",
       "14  1994   401.582944     73.9480             1913\n",
       "15  1995   397.762092     50.7230             2275\n",
       "16  1996   496.711095     61.9660             2635\n",
       "17  1997   575.923760     70.0750             3393\n",
       "18  1998   553.619126     57.1850             4275\n",
       "19  1999   595.675914     54.5000             4915\n",
       "20  2000   603.794249     53.3000             5385\n",
       "21  2001   442.787657     40.8000             6765\n",
       "22  2002   342.609841     30.1000             7578\n",
       "23  2003   322.149563     26.8000             7894\n",
       "24  2004   400.805725     34.8000             8090\n",
       "25  2005   441.866071     38.6000             7910\n",
       "26  2006   470.872313     38.4000             8487\n",
       "27  2007   495.760533     36.0000            10501\n",
       "28  2008   365.357323     22.8000            12412\n",
       "29  2009   300.563405     23.4000            11942\n",
       "30  2010   375.860445     31.4000            11675\n",
       "31  2011   438.073931     36.4000            11846\n",
       "32  2012   462.716557     36.5000            11920\n",
       "33  2013   549.411620     42.4000            12137\n",
       "34  2014   629.453998     47.8000            12520\n",
       "35  2015   633.479112     45.9000            13138\n",
       "36  2016   622.366958     41.8000            13521\n",
       "37  2017   723.568826     43.4000            13694\n",
       "38  2018   801.963351     47.3000            13583\n",
       "39  2019   859.298793     47.8000            13489\n",
       "40  2020   930.848877     47.9000            13385\n",
       "41  2021  1263.184391     64.3000            12956\n",
       "42  2022  1174.525616     59.1000            13342\n",
       "43  2023  1305.366076     67.0000            12343"
      ]
     },
     "execution_count": 8,
     "metadata": {},
     "output_type": "execute_result"
    }
   ],
   "source": [
    "grouped_data = crsp_df.groupby('year').agg({'mtna': ['mean', 'median'], 'crsp_fundno': 'nunique'}).reset_index()\n",
    "grouped_data.columns = ['Year', 'Average TNA', 'Median TNA', 'Number of Funds']\n",
    "grouped_data"
   ]
  },
  {
   "cell_type": "code",
   "execution_count": null,
   "metadata": {},
   "outputs": [],
   "source": []
  }
 ],
 "metadata": {
  "kernelspec": {
   "display_name": "base",
   "language": "python",
   "name": "python3"
  },
  "language_info": {
   "codemirror_mode": {
    "name": "ipython",
    "version": 3
   },
   "file_extension": ".py",
   "mimetype": "text/x-python",
   "name": "python",
   "nbconvert_exporter": "python",
   "pygments_lexer": "ipython3",
   "version": "3.11.5"
  }
 },
 "nbformat": 4,
 "nbformat_minor": 2
}
